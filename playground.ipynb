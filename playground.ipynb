{
 "cells": [
  {
   "cell_type": "code",
   "execution_count": 1,
   "metadata": {},
   "outputs": [],
   "source": [
    "from stuff import *"
   ]
  },
  {
   "cell_type": "code",
   "execution_count": 2,
   "metadata": {},
   "outputs": [
    {
     "name": "stdout",
     "output_type": "stream",
     "text": [
      "Donald Trump will be president in 2025.\n"
     ]
    }
   ],
   "source": [
    "d0 = Delta0(\"Donald Trump will be president in 2025.\")\n",
    "print(d0)"
   ]
  },
  {
   "cell_type": "code",
   "execution_count": 3,
   "metadata": {},
   "outputs": [],
   "source": [
    "E1 = FOL.exists(\n",
    "    sequence = lambda year: FOL.delta0(repr=f\"Donald Trump will be president in {year}.\"),\n",
    "    space = \"year\"\n",
    ")"
   ]
  },
  {
   "cell_type": "code",
   "execution_count": 4,
   "metadata": {},
   "outputs": [
    {
     "name": "stdout",
     "output_type": "stream",
     "text": [
      "∃ (x_1 : person), ∀ (x_2 : year), x_1 will be alive in x_2.\n"
     ]
    }
   ],
   "source": [
    "EP2 = FOL.exists(\n",
    "    sequence = lambda person: FOL.forall(\n",
    "        sequence = lambda year: FOL.delta0(repr=f\"{person} will be alive in {year}.\"),\n",
    "        space = \"year\"\n",
    "    ),\n",
    "    space = \"person\"\n",
    ")\n",
    "print(EP2)"
   ]
  }
 ],
 "metadata": {
  "kernelspec": {
   "display_name": "Python 3",
   "language": "python",
   "name": "python3"
  },
  "language_info": {
   "codemirror_mode": {
    "name": "ipython",
    "version": 3
   },
   "file_extension": ".py",
   "mimetype": "text/x-python",
   "name": "python",
   "nbconvert_exporter": "python",
   "pygments_lexer": "ipython3",
   "version": "3.11.0"
  }
 },
 "nbformat": 4,
 "nbformat_minor": 2
}
